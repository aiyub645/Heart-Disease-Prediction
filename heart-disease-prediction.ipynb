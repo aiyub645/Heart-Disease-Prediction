{
 "cells": [
  {
   "cell_type": "markdown",
   "id": "thousand-jersey",
   "metadata": {
    "papermill": {
     "duration": 0.024439,
     "end_time": "2021-05-06T05:56:27.552742",
     "exception": false,
     "start_time": "2021-05-06T05:56:27.528303",
     "status": "completed"
    },
    "tags": []
   },
   "source": [
    "# Heart Disease Prediction"
   ]
  },
  {
   "cell_type": "markdown",
   "id": "deluxe-alcohol",
   "metadata": {
    "papermill": {
     "duration": 0.022501,
     "end_time": "2021-05-06T05:56:27.599346",
     "exception": false,
     "start_time": "2021-05-06T05:56:27.576845",
     "status": "completed"
    },
    "tags": []
   },
   "source": [
    "**Heart disease** describes a range of conditions that affect your heart. Diseases under the heart disease umbrella include blood vessel diseases, such as coronary artery disease, heart rhythm problems (arrhythmia) and heart defects you’re born with (congenital heart defects), among others.\n",
    "\n",
    "In this Data Science Project I will be applying Machine Learning techniques to classify whether a person is suffering from Heart Disease or not."
   ]
  },
  {
   "cell_type": "markdown",
   "id": "careful-comparative",
   "metadata": {
    "papermill": {
     "duration": 0.022202,
     "end_time": "2021-05-06T05:56:27.644263",
     "exception": false,
     "start_time": "2021-05-06T05:56:27.622061",
     "status": "completed"
    },
    "tags": []
   },
   "source": [
    "**Importing the required modules**"
   ]
  },
  {
   "cell_type": "code",
   "execution_count": 1,
   "id": "infinite-cambodia",
   "metadata": {
    "execution": {
     "iopub.execute_input": "2021-05-06T05:56:27.692697Z",
     "iopub.status.busy": "2021-05-06T05:56:27.691694Z",
     "iopub.status.idle": "2021-05-06T05:56:28.802173Z",
     "shell.execute_reply": "2021-05-06T05:56:28.801432Z"
    },
    "papermill": {
     "duration": 1.13561,
     "end_time": "2021-05-06T05:56:28.802340",
     "exception": false,
     "start_time": "2021-05-06T05:56:27.666730",
     "status": "completed"
    },
    "tags": []
   },
   "outputs": [],
   "source": [
    "import numpy as np\n",
    "import matplotlib.pyplot as plt\n",
    "import pandas as pd\n",
    "import seaborn as sns\n",
    "from sklearn.model_selection import train_test_split\n",
    "from sklearn.preprocessing import StandardScaler\n",
    "from sklearn.linear_model import LogisticRegression\n",
    "from sklearn.neighbors import KNeighborsClassifier\n",
    "from sklearn.svm import SVC\n",
    "from sklearn.naive_bayes import GaussianNB\n",
    "from sklearn.tree import DecisionTreeClassifier\n",
    "from sklearn.ensemble import RandomForestClassifier\n",
    "from sklearn.metrics import confusion_matrix, accuracy_score"
   ]
  },
  {
   "cell_type": "markdown",
   "id": "aggressive-officer",
   "metadata": {
    "papermill": {
     "duration": 0.02253,
     "end_time": "2021-05-06T05:56:28.847941",
     "exception": false,
     "start_time": "2021-05-06T05:56:28.825411",
     "status": "completed"
    },
    "tags": []
   },
   "source": [
    "**Data Processing**"
   ]
  },
  {
   "cell_type": "code",
   "execution_count": 2,
   "id": "attempted-adventure",
   "metadata": {
    "execution": {
     "iopub.execute_input": "2021-05-06T05:56:28.899604Z",
     "iopub.status.busy": "2021-05-06T05:56:28.899060Z",
     "iopub.status.idle": "2021-05-06T05:56:28.946101Z",
     "shell.execute_reply": "2021-05-06T05:56:28.945550Z"
    },
    "papermill": {
     "duration": 0.074074,
     "end_time": "2021-05-06T05:56:28.946237",
     "exception": false,
     "start_time": "2021-05-06T05:56:28.872163",
     "status": "completed"
    },
    "tags": []
   },
   "outputs": [
    {
     "data": {
      "text/html": [
       "<div>\n",
       "<style scoped>\n",
       "    .dataframe tbody tr th:only-of-type {\n",
       "        vertical-align: middle;\n",
       "    }\n",
       "\n",
       "    .dataframe tbody tr th {\n",
       "        vertical-align: top;\n",
       "    }\n",
       "\n",
       "    .dataframe thead th {\n",
       "        text-align: right;\n",
       "    }\n",
       "</style>\n",
       "<table border=\"1\" class=\"dataframe\">\n",
       "  <thead>\n",
       "    <tr style=\"text-align: right;\">\n",
       "      <th></th>\n",
       "      <th>age</th>\n",
       "      <th>sex</th>\n",
       "      <th>cp</th>\n",
       "      <th>trestbps</th>\n",
       "      <th>chol</th>\n",
       "      <th>fbs</th>\n",
       "      <th>restecg</th>\n",
       "      <th>thalach</th>\n",
       "      <th>exang</th>\n",
       "      <th>oldpeak</th>\n",
       "      <th>slope</th>\n",
       "      <th>ca</th>\n",
       "      <th>thal</th>\n",
       "      <th>target</th>\n",
       "    </tr>\n",
       "  </thead>\n",
       "  <tbody>\n",
       "    <tr>\n",
       "      <th>0</th>\n",
       "      <td>52</td>\n",
       "      <td>1</td>\n",
       "      <td>0</td>\n",
       "      <td>125</td>\n",
       "      <td>212</td>\n",
       "      <td>0</td>\n",
       "      <td>1</td>\n",
       "      <td>168</td>\n",
       "      <td>0</td>\n",
       "      <td>1.0</td>\n",
       "      <td>2</td>\n",
       "      <td>2</td>\n",
       "      <td>3</td>\n",
       "      <td>0</td>\n",
       "    </tr>\n",
       "    <tr>\n",
       "      <th>1</th>\n",
       "      <td>53</td>\n",
       "      <td>1</td>\n",
       "      <td>0</td>\n",
       "      <td>140</td>\n",
       "      <td>203</td>\n",
       "      <td>1</td>\n",
       "      <td>0</td>\n",
       "      <td>155</td>\n",
       "      <td>1</td>\n",
       "      <td>3.1</td>\n",
       "      <td>0</td>\n",
       "      <td>0</td>\n",
       "      <td>3</td>\n",
       "      <td>0</td>\n",
       "    </tr>\n",
       "    <tr>\n",
       "      <th>2</th>\n",
       "      <td>70</td>\n",
       "      <td>1</td>\n",
       "      <td>0</td>\n",
       "      <td>145</td>\n",
       "      <td>174</td>\n",
       "      <td>0</td>\n",
       "      <td>1</td>\n",
       "      <td>125</td>\n",
       "      <td>1</td>\n",
       "      <td>2.6</td>\n",
       "      <td>0</td>\n",
       "      <td>0</td>\n",
       "      <td>3</td>\n",
       "      <td>0</td>\n",
       "    </tr>\n",
       "    <tr>\n",
       "      <th>3</th>\n",
       "      <td>61</td>\n",
       "      <td>1</td>\n",
       "      <td>0</td>\n",
       "      <td>148</td>\n",
       "      <td>203</td>\n",
       "      <td>0</td>\n",
       "      <td>1</td>\n",
       "      <td>161</td>\n",
       "      <td>0</td>\n",
       "      <td>0.0</td>\n",
       "      <td>2</td>\n",
       "      <td>1</td>\n",
       "      <td>3</td>\n",
       "      <td>0</td>\n",
       "    </tr>\n",
       "    <tr>\n",
       "      <th>4</th>\n",
       "      <td>62</td>\n",
       "      <td>0</td>\n",
       "      <td>0</td>\n",
       "      <td>138</td>\n",
       "      <td>294</td>\n",
       "      <td>1</td>\n",
       "      <td>1</td>\n",
       "      <td>106</td>\n",
       "      <td>0</td>\n",
       "      <td>1.9</td>\n",
       "      <td>1</td>\n",
       "      <td>3</td>\n",
       "      <td>2</td>\n",
       "      <td>0</td>\n",
       "    </tr>\n",
       "  </tbody>\n",
       "</table>\n",
       "</div>"
      ],
      "text/plain": [
       "   age  sex  cp  trestbps  chol  fbs  restecg  thalach  exang  oldpeak  slope  \\\n",
       "0   52    1   0       125   212    0        1      168      0      1.0      2   \n",
       "1   53    1   0       140   203    1        0      155      1      3.1      0   \n",
       "2   70    1   0       145   174    0        1      125      1      2.6      0   \n",
       "3   61    1   0       148   203    0        1      161      0      0.0      2   \n",
       "4   62    0   0       138   294    1        1      106      0      1.9      1   \n",
       "\n",
       "   ca  thal  target  \n",
       "0   2     3       0  \n",
       "1   0     3       0  \n",
       "2   0     3       0  \n",
       "3   1     3       0  \n",
       "4   3     2       0  "
      ]
     },
     "execution_count": 2,
     "metadata": {},
     "output_type": "execute_result"
    }
   ],
   "source": [
    "dataset = pd.read_csv('../input/heart-disease-dataset/heart.csv')\n",
    "dataset.head()"
   ]
  },
  {
   "cell_type": "markdown",
   "id": "exclusive-platform",
   "metadata": {
    "papermill": {
     "duration": 0.023477,
     "end_time": "2021-05-06T05:56:28.993966",
     "exception": false,
     "start_time": "2021-05-06T05:56:28.970489",
     "status": "completed"
    },
    "tags": []
   },
   "source": [
    "**Attribute Information:**\n",
    "\n",
    "1. age: age in years\n",
    "2. sex: (1 = male; 0 = female)\n",
    "3. cp: chest pain type (4 values)\n",
    "4. trestbps: resting blood pressure\n",
    "5. chol: serum cholestoral in mg/dl\n",
    "6. fbs: fasting blood sugar > 120 mg/dl\n",
    "7. restecg: resting electrocardiographic results (values 0,1,2)\n",
    "8. thalach: maximum heart rate achieved\n",
    "9. exang: exercise induced angina (1 = yes; 0 = no)\n",
    "10. oldpeak: ST depression induced by exercise relative to rest\n",
    "11. slope: the slope of the peak exercise ST segment\n",
    "12. ca: number of major vessels (0-3) colored by flourosopy\n",
    "13. thal: 0 = normal; 1 = fixed defect; 2 = reversable defect\n",
    "14. target: heart disease detected(1 = yes; 0 = no)"
   ]
  },
  {
   "cell_type": "code",
   "execution_count": 3,
   "id": "chief-waters",
   "metadata": {
    "execution": {
     "iopub.execute_input": "2021-05-06T05:56:29.044403Z",
     "iopub.status.busy": "2021-05-06T05:56:29.043763Z",
     "iopub.status.idle": "2021-05-06T05:56:29.063134Z",
     "shell.execute_reply": "2021-05-06T05:56:29.062584Z"
    },
    "papermill": {
     "duration": 0.045512,
     "end_time": "2021-05-06T05:56:29.063301",
     "exception": false,
     "start_time": "2021-05-06T05:56:29.017789",
     "status": "completed"
    },
    "tags": []
   },
   "outputs": [
    {
     "name": "stdout",
     "output_type": "stream",
     "text": [
      "<class 'pandas.core.frame.DataFrame'>\n",
      "RangeIndex: 1025 entries, 0 to 1024\n",
      "Data columns (total 14 columns):\n",
      " #   Column    Non-Null Count  Dtype  \n",
      "---  ------    --------------  -----  \n",
      " 0   age       1025 non-null   int64  \n",
      " 1   sex       1025 non-null   int64  \n",
      " 2   cp        1025 non-null   int64  \n",
      " 3   trestbps  1025 non-null   int64  \n",
      " 4   chol      1025 non-null   int64  \n",
      " 5   fbs       1025 non-null   int64  \n",
      " 6   restecg   1025 non-null   int64  \n",
      " 7   thalach   1025 non-null   int64  \n",
      " 8   exang     1025 non-null   int64  \n",
      " 9   oldpeak   1025 non-null   float64\n",
      " 10  slope     1025 non-null   int64  \n",
      " 11  ca        1025 non-null   int64  \n",
      " 12  thal      1025 non-null   int64  \n",
      " 13  target    1025 non-null   int64  \n",
      "dtypes: float64(1), int64(13)\n",
      "memory usage: 112.2 KB\n"
     ]
    }
   ],
   "source": [
    "dataset.info()"
   ]
  },
  {
   "cell_type": "code",
   "execution_count": 4,
   "id": "incorporated-anime",
   "metadata": {
    "execution": {
     "iopub.execute_input": "2021-05-06T05:56:29.118142Z",
     "iopub.status.busy": "2021-05-06T05:56:29.117529Z",
     "iopub.status.idle": "2021-05-06T05:56:29.121213Z",
     "shell.execute_reply": "2021-05-06T05:56:29.120642Z"
    },
    "papermill": {
     "duration": 0.033356,
     "end_time": "2021-05-06T05:56:29.121339",
     "exception": false,
     "start_time": "2021-05-06T05:56:29.087983",
     "status": "completed"
    },
    "tags": []
   },
   "outputs": [
    {
     "data": {
      "text/plain": [
       "age         0\n",
       "sex         0\n",
       "cp          0\n",
       "trestbps    0\n",
       "chol        0\n",
       "fbs         0\n",
       "restecg     0\n",
       "thalach     0\n",
       "exang       0\n",
       "oldpeak     0\n",
       "slope       0\n",
       "ca          0\n",
       "thal        0\n",
       "target      0\n",
       "dtype: int64"
      ]
     },
     "execution_count": 4,
     "metadata": {},
     "output_type": "execute_result"
    }
   ],
   "source": [
    "dataset.isnull().sum()"
   ]
  },
  {
   "cell_type": "code",
   "execution_count": 5,
   "id": "superb-builder",
   "metadata": {
    "execution": {
     "iopub.execute_input": "2021-05-06T05:56:29.172294Z",
     "iopub.status.busy": "2021-05-06T05:56:29.171752Z",
     "iopub.status.idle": "2021-05-06T05:56:29.221277Z",
     "shell.execute_reply": "2021-05-06T05:56:29.220747Z"
    },
    "papermill": {
     "duration": 0.07593,
     "end_time": "2021-05-06T05:56:29.221404",
     "exception": false,
     "start_time": "2021-05-06T05:56:29.145474",
     "status": "completed"
    },
    "tags": []
   },
   "outputs": [
    {
     "data": {
      "text/html": [
       "<div>\n",
       "<style scoped>\n",
       "    .dataframe tbody tr th:only-of-type {\n",
       "        vertical-align: middle;\n",
       "    }\n",
       "\n",
       "    .dataframe tbody tr th {\n",
       "        vertical-align: top;\n",
       "    }\n",
       "\n",
       "    .dataframe thead th {\n",
       "        text-align: right;\n",
       "    }\n",
       "</style>\n",
       "<table border=\"1\" class=\"dataframe\">\n",
       "  <thead>\n",
       "    <tr style=\"text-align: right;\">\n",
       "      <th></th>\n",
       "      <th>age</th>\n",
       "      <th>sex</th>\n",
       "      <th>cp</th>\n",
       "      <th>trestbps</th>\n",
       "      <th>chol</th>\n",
       "      <th>fbs</th>\n",
       "      <th>restecg</th>\n",
       "      <th>thalach</th>\n",
       "      <th>exang</th>\n",
       "      <th>oldpeak</th>\n",
       "      <th>slope</th>\n",
       "      <th>ca</th>\n",
       "      <th>thal</th>\n",
       "      <th>target</th>\n",
       "    </tr>\n",
       "  </thead>\n",
       "  <tbody>\n",
       "    <tr>\n",
       "      <th>count</th>\n",
       "      <td>1025.000000</td>\n",
       "      <td>1025.000000</td>\n",
       "      <td>1025.000000</td>\n",
       "      <td>1025.000000</td>\n",
       "      <td>1025.00000</td>\n",
       "      <td>1025.000000</td>\n",
       "      <td>1025.000000</td>\n",
       "      <td>1025.000000</td>\n",
       "      <td>1025.000000</td>\n",
       "      <td>1025.000000</td>\n",
       "      <td>1025.000000</td>\n",
       "      <td>1025.000000</td>\n",
       "      <td>1025.000000</td>\n",
       "      <td>1025.000000</td>\n",
       "    </tr>\n",
       "    <tr>\n",
       "      <th>mean</th>\n",
       "      <td>54.434146</td>\n",
       "      <td>0.695610</td>\n",
       "      <td>0.942439</td>\n",
       "      <td>131.611707</td>\n",
       "      <td>246.00000</td>\n",
       "      <td>0.149268</td>\n",
       "      <td>0.529756</td>\n",
       "      <td>149.114146</td>\n",
       "      <td>0.336585</td>\n",
       "      <td>1.071512</td>\n",
       "      <td>1.385366</td>\n",
       "      <td>0.754146</td>\n",
       "      <td>2.323902</td>\n",
       "      <td>0.513171</td>\n",
       "    </tr>\n",
       "    <tr>\n",
       "      <th>std</th>\n",
       "      <td>9.072290</td>\n",
       "      <td>0.460373</td>\n",
       "      <td>1.029641</td>\n",
       "      <td>17.516718</td>\n",
       "      <td>51.59251</td>\n",
       "      <td>0.356527</td>\n",
       "      <td>0.527878</td>\n",
       "      <td>23.005724</td>\n",
       "      <td>0.472772</td>\n",
       "      <td>1.175053</td>\n",
       "      <td>0.617755</td>\n",
       "      <td>1.030798</td>\n",
       "      <td>0.620660</td>\n",
       "      <td>0.500070</td>\n",
       "    </tr>\n",
       "    <tr>\n",
       "      <th>min</th>\n",
       "      <td>29.000000</td>\n",
       "      <td>0.000000</td>\n",
       "      <td>0.000000</td>\n",
       "      <td>94.000000</td>\n",
       "      <td>126.00000</td>\n",
       "      <td>0.000000</td>\n",
       "      <td>0.000000</td>\n",
       "      <td>71.000000</td>\n",
       "      <td>0.000000</td>\n",
       "      <td>0.000000</td>\n",
       "      <td>0.000000</td>\n",
       "      <td>0.000000</td>\n",
       "      <td>0.000000</td>\n",
       "      <td>0.000000</td>\n",
       "    </tr>\n",
       "    <tr>\n",
       "      <th>25%</th>\n",
       "      <td>48.000000</td>\n",
       "      <td>0.000000</td>\n",
       "      <td>0.000000</td>\n",
       "      <td>120.000000</td>\n",
       "      <td>211.00000</td>\n",
       "      <td>0.000000</td>\n",
       "      <td>0.000000</td>\n",
       "      <td>132.000000</td>\n",
       "      <td>0.000000</td>\n",
       "      <td>0.000000</td>\n",
       "      <td>1.000000</td>\n",
       "      <td>0.000000</td>\n",
       "      <td>2.000000</td>\n",
       "      <td>0.000000</td>\n",
       "    </tr>\n",
       "    <tr>\n",
       "      <th>50%</th>\n",
       "      <td>56.000000</td>\n",
       "      <td>1.000000</td>\n",
       "      <td>1.000000</td>\n",
       "      <td>130.000000</td>\n",
       "      <td>240.00000</td>\n",
       "      <td>0.000000</td>\n",
       "      <td>1.000000</td>\n",
       "      <td>152.000000</td>\n",
       "      <td>0.000000</td>\n",
       "      <td>0.800000</td>\n",
       "      <td>1.000000</td>\n",
       "      <td>0.000000</td>\n",
       "      <td>2.000000</td>\n",
       "      <td>1.000000</td>\n",
       "    </tr>\n",
       "    <tr>\n",
       "      <th>75%</th>\n",
       "      <td>61.000000</td>\n",
       "      <td>1.000000</td>\n",
       "      <td>2.000000</td>\n",
       "      <td>140.000000</td>\n",
       "      <td>275.00000</td>\n",
       "      <td>0.000000</td>\n",
       "      <td>1.000000</td>\n",
       "      <td>166.000000</td>\n",
       "      <td>1.000000</td>\n",
       "      <td>1.800000</td>\n",
       "      <td>2.000000</td>\n",
       "      <td>1.000000</td>\n",
       "      <td>3.000000</td>\n",
       "      <td>1.000000</td>\n",
       "    </tr>\n",
       "    <tr>\n",
       "      <th>max</th>\n",
       "      <td>77.000000</td>\n",
       "      <td>1.000000</td>\n",
       "      <td>3.000000</td>\n",
       "      <td>200.000000</td>\n",
       "      <td>564.00000</td>\n",
       "      <td>1.000000</td>\n",
       "      <td>2.000000</td>\n",
       "      <td>202.000000</td>\n",
       "      <td>1.000000</td>\n",
       "      <td>6.200000</td>\n",
       "      <td>2.000000</td>\n",
       "      <td>4.000000</td>\n",
       "      <td>3.000000</td>\n",
       "      <td>1.000000</td>\n",
       "    </tr>\n",
       "  </tbody>\n",
       "</table>\n",
       "</div>"
      ],
      "text/plain": [
       "               age          sex           cp     trestbps        chol  \\\n",
       "count  1025.000000  1025.000000  1025.000000  1025.000000  1025.00000   \n",
       "mean     54.434146     0.695610     0.942439   131.611707   246.00000   \n",
       "std       9.072290     0.460373     1.029641    17.516718    51.59251   \n",
       "min      29.000000     0.000000     0.000000    94.000000   126.00000   \n",
       "25%      48.000000     0.000000     0.000000   120.000000   211.00000   \n",
       "50%      56.000000     1.000000     1.000000   130.000000   240.00000   \n",
       "75%      61.000000     1.000000     2.000000   140.000000   275.00000   \n",
       "max      77.000000     1.000000     3.000000   200.000000   564.00000   \n",
       "\n",
       "               fbs      restecg      thalach        exang      oldpeak  \\\n",
       "count  1025.000000  1025.000000  1025.000000  1025.000000  1025.000000   \n",
       "mean      0.149268     0.529756   149.114146     0.336585     1.071512   \n",
       "std       0.356527     0.527878    23.005724     0.472772     1.175053   \n",
       "min       0.000000     0.000000    71.000000     0.000000     0.000000   \n",
       "25%       0.000000     0.000000   132.000000     0.000000     0.000000   \n",
       "50%       0.000000     1.000000   152.000000     0.000000     0.800000   \n",
       "75%       0.000000     1.000000   166.000000     1.000000     1.800000   \n",
       "max       1.000000     2.000000   202.000000     1.000000     6.200000   \n",
       "\n",
       "             slope           ca         thal       target  \n",
       "count  1025.000000  1025.000000  1025.000000  1025.000000  \n",
       "mean      1.385366     0.754146     2.323902     0.513171  \n",
       "std       0.617755     1.030798     0.620660     0.500070  \n",
       "min       0.000000     0.000000     0.000000     0.000000  \n",
       "25%       1.000000     0.000000     2.000000     0.000000  \n",
       "50%       1.000000     0.000000     2.000000     1.000000  \n",
       "75%       2.000000     1.000000     3.000000     1.000000  \n",
       "max       2.000000     4.000000     3.000000     1.000000  "
      ]
     },
     "execution_count": 5,
     "metadata": {},
     "output_type": "execute_result"
    }
   ],
   "source": [
    "dataset.describe()"
   ]
  },
  {
   "cell_type": "code",
   "execution_count": 6,
   "id": "cubic-highland",
   "metadata": {
    "execution": {
     "iopub.execute_input": "2021-05-06T05:56:29.276161Z",
     "iopub.status.busy": "2021-05-06T05:56:29.275556Z",
     "iopub.status.idle": "2021-05-06T05:56:29.278177Z",
     "shell.execute_reply": "2021-05-06T05:56:29.277667Z"
    },
    "papermill": {
     "duration": 0.03208,
     "end_time": "2021-05-06T05:56:29.278299",
     "exception": false,
     "start_time": "2021-05-06T05:56:29.246219",
     "status": "completed"
    },
    "tags": []
   },
   "outputs": [],
   "source": [
    "X = dataset.drop(['target'],axis=1)\n",
    "y = dataset.iloc[:, -1].values\n"
   ]
  },
  {
   "cell_type": "markdown",
   "id": "permanent-chorus",
   "metadata": {
    "papermill": {
     "duration": 0.028673,
     "end_time": "2021-05-06T05:56:29.331829",
     "exception": false,
     "start_time": "2021-05-06T05:56:29.303156",
     "status": "completed"
    },
    "tags": []
   },
   "source": [
    "**Feature Selection**"
   ]
  },
  {
   "cell_type": "code",
   "execution_count": 7,
   "id": "competent-indian",
   "metadata": {
    "execution": {
     "iopub.execute_input": "2021-05-06T05:56:29.388572Z",
     "iopub.status.busy": "2021-05-06T05:56:29.387980Z",
     "iopub.status.idle": "2021-05-06T05:56:29.724218Z",
     "shell.execute_reply": "2021-05-06T05:56:29.723737Z"
    },
    "papermill": {
     "duration": 0.366755,
     "end_time": "2021-05-06T05:56:29.724355",
     "exception": false,
     "start_time": "2021-05-06T05:56:29.357600",
     "status": "completed"
    },
    "tags": []
   },
   "outputs": [
    {
     "data": {
      "text/plain": [
       "<AxesSubplot:>"
      ]
     },
     "execution_count": 7,
     "metadata": {},
     "output_type": "execute_result"
    },
    {
     "data": {
      "image/png": "[encoded data removed]",
      "text/plain": [
       "<Figure size 432x288 with 2 Axes>"
      ]
     },
     "metadata": {
      "needs_background": "light"
     },
     "output_type": "display_data"
    }
   ],
   "source": [
    "correlation = dataset.corr()\n",
    "sns.heatmap(dataset.corr())"
   ]
  },
  {
   "cell_type": "markdown",
   "id": "careful-trademark",
   "metadata": {
    "papermill": {
     "duration": 0.025694,
     "end_time": "2021-05-06T05:56:29.776061",
     "exception": false,
     "start_time": "2021-05-06T05:56:29.750367",
     "status": "completed"
    },
    "tags": []
   },
   "source": [
    "**Data preprocessing**"
   ]
  },
  {
   "cell_type": "code",
   "execution_count": 8,
   "id": "interim-lindsay",
   "metadata": {
    "execution": {
     "iopub.execute_input": "2021-05-06T05:56:29.833571Z",
     "iopub.status.busy": "2021-05-06T05:56:29.832295Z",
     "iopub.status.idle": "2021-05-06T05:56:29.836505Z",
     "shell.execute_reply": "2021-05-06T05:56:29.836923Z"
    },
    "papermill": {
     "duration": 0.035444,
     "end_time": "2021-05-06T05:56:29.837083",
     "exception": false,
     "start_time": "2021-05-06T05:56:29.801639",
     "status": "completed"
    },
    "tags": []
   },
   "outputs": [],
   "source": [
    "X_train, X_test, y_train, y_test = train_test_split(X, y, test_size = 0.25, random_state = 0)\n"
   ]
  },
  {
   "cell_type": "code",
   "execution_count": 9,
   "id": "operating-rendering",
   "metadata": {
    "execution": {
     "iopub.execute_input": "2021-05-06T05:56:29.896108Z",
     "iopub.status.busy": "2021-05-06T05:56:29.895211Z",
     "iopub.status.idle": "2021-05-06T05:56:29.902515Z",
     "shell.execute_reply": "2021-05-06T05:56:29.902933Z"
    },
    "papermill": {
     "duration": 0.03969,
     "end_time": "2021-05-06T05:56:29.903092",
     "exception": false,
     "start_time": "2021-05-06T05:56:29.863402",
     "status": "completed"
    },
    "tags": []
   },
   "outputs": [],
   "source": [
    "sc = StandardScaler()\n",
    "X_train = sc.fit_transform(X_train)\n",
    "X_test = sc.transform(X_test)"
   ]
  },
  {
   "cell_type": "markdown",
   "id": "material-joint",
   "metadata": {
    "papermill": {
     "duration": 0.026868,
     "end_time": "2021-05-06T05:56:29.956301",
     "exception": false,
     "start_time": "2021-05-06T05:56:29.929433",
     "status": "completed"
    },
    "tags": []
   },
   "source": [
    "**In this project, I'm gonna apply 7 types of algorithms in machine learning. these are Logistic Regression, K-NN, SVM, Kernel SVM, Naive Bayes, Decision Tree, and Random Forest model. now I'm super excited to start step by step**"
   ]
  },
  {
   "cell_type": "markdown",
   "id": "suspended-beach",
   "metadata": {
    "papermill": {
     "duration": 0.026582,
     "end_time": "2021-05-06T05:56:30.009313",
     "exception": false,
     "start_time": "2021-05-06T05:56:29.982731",
     "status": "completed"
    },
    "tags": []
   },
   "source": [
    "#  Logistic Regression"
   ]
  },
  {
   "cell_type": "code",
   "execution_count": 10,
   "id": "unauthorized-difference",
   "metadata": {
    "execution": {
     "iopub.execute_input": "2021-05-06T05:56:30.067226Z",
     "iopub.status.busy": "2021-05-06T05:56:30.066313Z",
     "iopub.status.idle": "2021-05-06T05:56:30.083269Z",
     "shell.execute_reply": "2021-05-06T05:56:30.082495Z"
    },
    "papermill": {
     "duration": 0.047846,
     "end_time": "2021-05-06T05:56:30.083462",
     "exception": false,
     "start_time": "2021-05-06T05:56:30.035616",
     "status": "completed"
    },
    "tags": []
   },
   "outputs": [
    {
     "data": {
      "text/plain": [
       "LogisticRegression(random_state=0)"
      ]
     },
     "execution_count": 10,
     "metadata": {},
     "output_type": "execute_result"
    }
   ],
   "source": [
    "classifier = LogisticRegression(random_state = 0)\n",
    "classifier.fit(X_train, y_train)"
   ]
  },
  {
   "cell_type": "code",
   "execution_count": 11,
   "id": "tired-apparel",
   "metadata": {
    "execution": {
     "iopub.execute_input": "2021-05-06T05:56:30.197328Z",
     "iopub.status.busy": "2021-05-06T05:56:30.196505Z",
     "iopub.status.idle": "2021-05-06T05:56:30.199293Z",
     "shell.execute_reply": "2021-05-06T05:56:30.197830Z"
    },
    "papermill": {
     "duration": 0.064125,
     "end_time": "2021-05-06T05:56:30.199416",
     "exception": false,
     "start_time": "2021-05-06T05:56:30.135291",
     "status": "completed"
    },
    "tags": []
   },
   "outputs": [
    {
     "data": {
      "text/plain": [
       "array([1, 1, 0, 1, 0, 0, 0, 0, 0, 1, 0, 0, 1, 1, 1, 1, 1, 0, 1, 0, 1, 1,\n",
       "       1, 1, 1, 1, 1, 1, 1, 1, 1, 0, 0, 1, 0, 0, 1, 0, 1, 1, 1, 1, 1, 1,\n",
       "       1, 1, 1, 1, 0, 1, 0, 0, 0, 1, 0, 0, 0, 1, 0, 1, 0, 1, 1, 1, 0, 0,\n",
       "       0, 1, 1, 1, 1, 1, 1, 0, 0, 0, 1, 0, 0, 0, 0, 0, 1, 1, 1, 0, 1, 0,\n",
       "       1, 0, 0, 0, 1, 0, 1, 0, 1, 0, 1, 1, 1, 1, 1, 0, 0, 1, 0, 1, 0, 1,\n",
       "       1, 1, 0, 0, 1, 0, 1, 0, 0, 1, 1, 1, 1, 0, 1, 1, 1, 1, 1, 0, 0, 0,\n",
       "       1, 1, 1, 0, 0, 1, 0, 1, 0, 0, 0, 0, 1, 1, 1, 0, 1, 0, 1, 1, 1, 0,\n",
       "       0, 0, 1, 1, 0, 0, 0, 1, 1, 0, 1, 1, 1, 1, 1, 1, 1, 1, 1, 1, 1, 1,\n",
       "       0, 1, 1, 0, 0, 0, 0, 0, 1, 0, 1, 0, 1, 0, 0, 1, 1, 1, 0, 1, 1, 1,\n",
       "       1, 0, 1, 1, 1, 0, 1, 1, 1, 1, 1, 0, 1, 1, 1, 1, 0, 0, 1, 0, 1, 1,\n",
       "       0, 1, 1, 0, 1, 0, 0, 1, 1, 0, 0, 0, 1, 0, 1, 0, 1, 1, 0, 0, 0, 0,\n",
       "       0, 0, 1, 1, 0, 1, 0, 1, 1, 0, 1, 1, 1, 0, 1])"
      ]
     },
     "execution_count": 11,
     "metadata": {},
     "output_type": "execute_result"
    }
   ],
   "source": [
    "y_pred = classifier.predict(X_test)\n",
    "y_pred"
   ]
  },
  {
   "cell_type": "code",
   "execution_count": 12,
   "id": "neural-sauce",
   "metadata": {
    "execution": {
     "iopub.execute_input": "2021-05-06T05:56:30.256494Z",
     "iopub.status.busy": "2021-05-06T05:56:30.255948Z",
     "iopub.status.idle": "2021-05-06T05:56:30.262430Z",
     "shell.execute_reply": "2021-05-06T05:56:30.262835Z"
    },
    "papermill": {
     "duration": 0.037387,
     "end_time": "2021-05-06T05:56:30.263037",
     "exception": false,
     "start_time": "2021-05-06T05:56:30.225650",
     "status": "completed"
    },
    "tags": []
   },
   "outputs": [
    {
     "data": {
      "text/plain": [
       "array([[ 98,  25],\n",
       "       [ 10, 124]])"
      ]
     },
     "execution_count": 12,
     "metadata": {},
     "output_type": "execute_result"
    }
   ],
   "source": [
    "cm = confusion_matrix(y_test, y_pred)\n",
    "cm"
   ]
  },
  {
   "cell_type": "code",
   "execution_count": 13,
   "id": "checked-fifteen",
   "metadata": {
    "execution": {
     "iopub.execute_input": "2021-05-06T05:56:30.321372Z",
     "iopub.status.busy": "2021-05-06T05:56:30.320505Z",
     "iopub.status.idle": "2021-05-06T05:56:30.325785Z",
     "shell.execute_reply": "2021-05-06T05:56:30.326300Z"
    },
    "papermill": {
     "duration": 0.03697,
     "end_time": "2021-05-06T05:56:30.326449",
     "exception": false,
     "start_time": "2021-05-06T05:56:30.289479",
     "status": "completed"
    },
    "tags": []
   },
   "outputs": [
    {
     "data": {
      "text/plain": [
       "0.8638132295719845"
      ]
     },
     "execution_count": 13,
     "metadata": {},
     "output_type": "execute_result"
    }
   ],
   "source": [
    "accuracy=accuracy_score(y_test,y_pred)\n",
    "accuracy"
   ]
  },
  {
   "cell_type": "markdown",
   "id": "august-legend",
   "metadata": {
    "papermill": {
     "duration": 0.027214,
     "end_time": "2021-05-06T05:56:30.380969",
     "exception": false,
     "start_time": "2021-05-06T05:56:30.353755",
     "status": "completed"
    },
    "tags": []
   },
   "source": [
    "# K-Nearest Neighbors (K-NN)"
   ]
  },
  {
   "cell_type": "code",
   "execution_count": 14,
   "id": "joined-parade",
   "metadata": {
    "execution": {
     "iopub.execute_input": "2021-05-06T05:56:30.439005Z",
     "iopub.status.busy": "2021-05-06T05:56:30.438161Z",
     "iopub.status.idle": "2021-05-06T05:56:30.445001Z",
     "shell.execute_reply": "2021-05-06T05:56:30.445417Z"
    },
    "papermill": {
     "duration": 0.037263,
     "end_time": "2021-05-06T05:56:30.445564",
     "exception": false,
     "start_time": "2021-05-06T05:56:30.408301",
     "status": "completed"
    },
    "tags": []
   },
   "outputs": [
    {
     "data": {
      "text/plain": [
       "KNeighborsClassifier()"
      ]
     },
     "execution_count": 14,
     "metadata": {},
     "output_type": "execute_result"
    }
   ],
   "source": [
    "classifier = KNeighborsClassifier(n_neighbors = 5, metric = 'minkowski', p = 2)\n",
    "classifier.fit(X_train, y_train)"
   ]
  },
  {
   "cell_type": "code",
   "execution_count": 15,
   "id": "developed-myanmar",
   "metadata": {
    "execution": {
     "iopub.execute_input": "2021-05-06T05:56:30.504232Z",
     "iopub.status.busy": "2021-05-06T05:56:30.503387Z",
     "iopub.status.idle": "2021-05-06T05:56:30.520859Z",
     "shell.execute_reply": "2021-05-06T05:56:30.521323Z"
    },
    "papermill": {
     "duration": 0.048259,
     "end_time": "2021-05-06T05:56:30.521476",
     "exception": false,
     "start_time": "2021-05-06T05:56:30.473217",
     "status": "completed"
    },
    "tags": []
   },
   "outputs": [
    {
     "data": {
      "text/plain": [
       "array([1, 1, 0, 1, 0, 0, 0, 0, 0, 0, 0, 0, 1, 1, 1, 1, 1, 0, 1, 0, 1, 1,\n",
       "       1, 1, 1, 1, 1, 0, 1, 1, 1, 0, 0, 1, 0, 0, 0, 0, 0, 1, 0, 1, 1, 1,\n",
       "       1, 1, 1, 1, 0, 1, 0, 0, 0, 0, 0, 0, 0, 1, 0, 1, 0, 0, 1, 1, 0, 1,\n",
       "       0, 1, 1, 1, 0, 1, 1, 0, 0, 0, 0, 0, 0, 0, 0, 0, 0, 1, 1, 0, 1, 0,\n",
       "       1, 0, 0, 0, 1, 1, 1, 0, 1, 0, 1, 1, 1, 1, 1, 1, 0, 1, 0, 1, 0, 1,\n",
       "       1, 0, 1, 1, 1, 0, 1, 0, 0, 1, 0, 0, 1, 0, 0, 1, 1, 1, 1, 0, 0, 0,\n",
       "       1, 1, 1, 0, 0, 1, 0, 1, 1, 0, 1, 0, 0, 1, 1, 0, 0, 0, 1, 1, 1, 0,\n",
       "       0, 0, 1, 0, 0, 0, 0, 1, 1, 0, 1, 1, 1, 1, 1, 1, 1, 1, 1, 1, 1, 1,\n",
       "       0, 1, 1, 0, 0, 0, 0, 0, 1, 0, 1, 0, 1, 0, 0, 1, 1, 1, 0, 1, 1, 1,\n",
       "       1, 1, 1, 1, 1, 0, 1, 1, 1, 1, 1, 0, 1, 0, 1, 0, 1, 0, 1, 0, 1, 0,\n",
       "       0, 1, 1, 0, 1, 0, 0, 1, 1, 0, 0, 0, 1, 0, 1, 0, 1, 1, 0, 0, 0, 0,\n",
       "       1, 1, 1, 1, 0, 1, 0, 0, 0, 0, 1, 1, 0, 0, 1])"
      ]
     },
     "execution_count": 15,
     "metadata": {},
     "output_type": "execute_result"
    }
   ],
   "source": [
    "y_pred = classifier.predict(X_test)\n",
    "y_pred"
   ]
  },
  {
   "cell_type": "code",
   "execution_count": 16,
   "id": "regional-huntington",
   "metadata": {
    "execution": {
     "iopub.execute_input": "2021-05-06T05:56:30.580200Z",
     "iopub.status.busy": "2021-05-06T05:56:30.579348Z",
     "iopub.status.idle": "2021-05-06T05:56:30.585116Z",
     "shell.execute_reply": "2021-05-06T05:56:30.585595Z"
    },
    "papermill": {
     "duration": 0.036723,
     "end_time": "2021-05-06T05:56:30.585755",
     "exception": false,
     "start_time": "2021-05-06T05:56:30.549032",
     "status": "completed"
    },
    "tags": []
   },
   "outputs": [
    {
     "data": {
      "text/plain": [
       "array([[106,  17],\n",
       "       [ 14, 120]])"
      ]
     },
     "execution_count": 16,
     "metadata": {},
     "output_type": "execute_result"
    }
   ],
   "source": [
    "cm = confusion_matrix(y_test, y_pred)\n",
    "cm"
   ]
  },
  {
   "cell_type": "code",
   "execution_count": 17,
   "id": "appropriate-livestock",
   "metadata": {
    "execution": {
     "iopub.execute_input": "2021-05-06T05:56:30.645114Z",
     "iopub.status.busy": "2021-05-06T05:56:30.644243Z",
     "iopub.status.idle": "2021-05-06T05:56:30.649341Z",
     "shell.execute_reply": "2021-05-06T05:56:30.649747Z"
    },
    "papermill": {
     "duration": 0.036398,
     "end_time": "2021-05-06T05:56:30.649919",
     "exception": false,
     "start_time": "2021-05-06T05:56:30.613521",
     "status": "completed"
    },
    "tags": []
   },
   "outputs": [
    {
     "data": {
      "text/plain": [
       "0.8793774319066148"
      ]
     },
     "execution_count": 17,
     "metadata": {},
     "output_type": "execute_result"
    }
   ],
   "source": [
    "accuracy = accuracy_score(y_test, y_pred)\n",
    "accuracy"
   ]
  },
  {
   "cell_type": "markdown",
   "id": "driving-watson",
   "metadata": {
    "papermill": {
     "duration": 0.028504,
     "end_time": "2021-05-06T05:56:30.706577",
     "exception": false,
     "start_time": "2021-05-06T05:56:30.678073",
     "status": "completed"
    },
    "tags": []
   },
   "source": [
    "# Support Vector Machine (SVM)"
   ]
  },
  {
   "cell_type": "code",
   "execution_count": 18,
   "id": "cutting-opposition",
   "metadata": {
    "execution": {
     "iopub.execute_input": "2021-05-06T05:56:30.767211Z",
     "iopub.status.busy": "2021-05-06T05:56:30.766327Z",
     "iopub.status.idle": "2021-05-06T05:56:30.795296Z",
     "shell.execute_reply": "2021-05-06T05:56:30.795705Z"
    },
    "papermill": {
     "duration": 0.060608,
     "end_time": "2021-05-06T05:56:30.795854",
     "exception": false,
     "start_time": "2021-05-06T05:56:30.735246",
     "status": "completed"
    },
    "tags": []
   },
   "outputs": [
    {
     "data": {
      "text/plain": [
       "SVC(kernel='linear', random_state=0)"
      ]
     },
     "execution_count": 18,
     "metadata": {},
     "output_type": "execute_result"
    }
   ],
   "source": [
    "classifier = SVC(kernel = 'linear', random_state = 0)\n",
    "classifier.fit(X_train, y_train)"
   ]
  },
  {
   "cell_type": "code",
   "execution_count": 19,
   "id": "attempted-perspective",
   "metadata": {
    "execution": {
     "iopub.execute_input": "2021-05-06T05:56:30.857307Z",
     "iopub.status.busy": "2021-05-06T05:56:30.856426Z",
     "iopub.status.idle": "2021-05-06T05:56:30.864251Z",
     "shell.execute_reply": "2021-05-06T05:56:30.864622Z"
    },
    "papermill": {
     "duration": 0.039985,
     "end_time": "2021-05-06T05:56:30.864772",
     "exception": false,
     "start_time": "2021-05-06T05:56:30.824787",
     "status": "completed"
    },
    "tags": []
   },
   "outputs": [
    {
     "data": {
      "text/plain": [
       "array([1, 1, 0, 1, 0, 0, 0, 0, 0, 1, 1, 0, 1, 1, 1, 1, 1, 0, 1, 0, 1, 1,\n",
       "       1, 1, 1, 1, 1, 1, 1, 1, 1, 0, 0, 1, 0, 0, 0, 0, 1, 1, 1, 1, 1, 1,\n",
       "       1, 1, 1, 1, 0, 1, 0, 0, 0, 1, 0, 0, 0, 1, 0, 1, 0, 1, 1, 1, 0, 0,\n",
       "       0, 1, 1, 1, 1, 1, 1, 0, 0, 0, 1, 0, 0, 0, 0, 0, 1, 1, 1, 0, 1, 0,\n",
       "       1, 0, 0, 0, 1, 1, 1, 0, 1, 0, 1, 1, 1, 1, 1, 0, 0, 1, 0, 1, 0, 1,\n",
       "       1, 1, 0, 0, 0, 0, 1, 0, 0, 1, 1, 1, 1, 0, 1, 1, 1, 1, 1, 0, 0, 0,\n",
       "       1, 1, 1, 0, 0, 1, 0, 1, 0, 0, 1, 0, 0, 1, 1, 0, 1, 0, 1, 1, 1, 0,\n",
       "       0, 0, 1, 1, 0, 0, 0, 1, 1, 0, 1, 0, 1, 1, 1, 1, 1, 1, 1, 1, 1, 1,\n",
       "       0, 1, 1, 0, 0, 0, 0, 0, 1, 0, 1, 0, 0, 0, 0, 1, 1, 1, 0, 1, 1, 1,\n",
       "       1, 0, 1, 1, 1, 0, 1, 1, 1, 1, 1, 0, 1, 1, 1, 1, 0, 0, 1, 0, 0, 1,\n",
       "       0, 1, 1, 0, 1, 0, 0, 1, 1, 0, 0, 0, 1, 0, 1, 0, 1, 1, 0, 0, 0, 0,\n",
       "       0, 0, 1, 1, 0, 1, 0, 1, 1, 0, 1, 1, 1, 0, 1])"
      ]
     },
     "execution_count": 19,
     "metadata": {},
     "output_type": "execute_result"
    }
   ],
   "source": [
    "y_pred= classifier.predict(X_test)\n",
    "y_pred"
   ]
  },
  {
   "cell_type": "code",
   "execution_count": 20,
   "id": "accredited-jordan",
   "metadata": {
    "execution": {
     "iopub.execute_input": "2021-05-06T05:56:30.926582Z",
     "iopub.status.busy": "2021-05-06T05:56:30.925984Z",
     "iopub.status.idle": "2021-05-06T05:56:30.931005Z",
     "shell.execute_reply": "2021-05-06T05:56:30.931438Z"
    },
    "papermill": {
     "duration": 0.037868,
     "end_time": "2021-05-06T05:56:30.931590",
     "exception": false,
     "start_time": "2021-05-06T05:56:30.893722",
     "status": "completed"
    },
    "tags": []
   },
   "outputs": [
    {
     "data": {
      "text/plain": [
       "array([[ 99,  24],\n",
       "       [ 12, 122]])"
      ]
     },
     "execution_count": 20,
     "metadata": {},
     "output_type": "execute_result"
    }
   ],
   "source": [
    "cm = confusion_matrix(y_test, y_pred)\n",
    "cm"
   ]
  },
  {
   "cell_type": "code",
   "execution_count": 21,
   "id": "stainless-southeast",
   "metadata": {
    "execution": {
     "iopub.execute_input": "2021-05-06T05:56:30.993670Z",
     "iopub.status.busy": "2021-05-06T05:56:30.993062Z",
     "iopub.status.idle": "2021-05-06T05:56:30.997649Z",
     "shell.execute_reply": "2021-05-06T05:56:30.998085Z"
    },
    "papermill": {
     "duration": 0.036889,
     "end_time": "2021-05-06T05:56:30.998232",
     "exception": false,
     "start_time": "2021-05-06T05:56:30.961343",
     "status": "completed"
    },
    "tags": []
   },
   "outputs": [
    {
     "data": {
      "text/plain": [
       "0.8599221789883269"
      ]
     },
     "execution_count": 21,
     "metadata": {},
     "output_type": "execute_result"
    }
   ],
   "source": [
    "accuracy = accuracy_score(y_test, y_pred)\n",
    "accuracy"
   ]
  },
  {
   "cell_type": "markdown",
   "id": "acute-rubber",
   "metadata": {
    "papermill": {
     "duration": 0.030616,
     "end_time": "2021-05-06T05:56:31.058720",
     "exception": false,
     "start_time": "2021-05-06T05:56:31.028104",
     "status": "completed"
    },
    "tags": []
   },
   "source": [
    "# Kernel SVM"
   ]
  },
  {
   "cell_type": "code",
   "execution_count": 22,
   "id": "threaded-chamber",
   "metadata": {
    "execution": {
     "iopub.execute_input": "2021-05-06T05:56:31.122959Z",
     "iopub.status.busy": "2021-05-06T05:56:31.122385Z",
     "iopub.status.idle": "2021-05-06T05:56:31.145816Z",
     "shell.execute_reply": "2021-05-06T05:56:31.146274Z"
    },
    "papermill": {
     "duration": 0.05726,
     "end_time": "2021-05-06T05:56:31.146429",
     "exception": false,
     "start_time": "2021-05-06T05:56:31.089169",
     "status": "completed"
    },
    "tags": []
   },
   "outputs": [
    {
     "data": {
      "text/plain": [
       "SVC(random_state=0)"
      ]
     },
     "execution_count": 22,
     "metadata": {},
     "output_type": "execute_result"
    }
   ],
   "source": [
    "classifier = SVC(kernel = \"rbf\", random_state = 0)\n",
    "classifier.fit(X_train, y_train)"
   ]
  },
  {
   "cell_type": "code",
   "execution_count": 23,
   "id": "necessary-correlation",
   "metadata": {
    "execution": {
     "iopub.execute_input": "2021-05-06T05:56:31.209438Z",
     "iopub.status.busy": "2021-05-06T05:56:31.208865Z",
     "iopub.status.idle": "2021-05-06T05:56:31.219623Z",
     "shell.execute_reply": "2021-05-06T05:56:31.220073Z"
    },
    "papermill": {
     "duration": 0.043496,
     "end_time": "2021-05-06T05:56:31.220222",
     "exception": false,
     "start_time": "2021-05-06T05:56:31.176726",
     "status": "completed"
    },
    "tags": []
   },
   "outputs": [
    {
     "data": {
      "text/plain": [
       "array([1, 1, 0, 1, 0, 0, 0, 0, 0, 1, 0, 0, 1, 0, 1, 1, 1, 0, 1, 0, 1, 1,\n",
       "       1, 1, 1, 1, 1, 0, 1, 1, 1, 0, 0, 1, 0, 0, 0, 0, 1, 1, 1, 1, 1, 1,\n",
       "       1, 1, 1, 0, 0, 0, 0, 0, 1, 0, 0, 0, 0, 1, 0, 1, 0, 0, 1, 0, 0, 0,\n",
       "       0, 1, 1, 1, 1, 1, 1, 0, 0, 0, 1, 1, 0, 0, 0, 0, 1, 1, 1, 0, 1, 0,\n",
       "       1, 0, 0, 0, 1, 1, 1, 0, 0, 0, 1, 1, 1, 1, 1, 0, 0, 1, 0, 1, 0, 1,\n",
       "       1, 0, 1, 0, 1, 0, 1, 0, 0, 1, 0, 1, 1, 0, 0, 1, 1, 1, 1, 0, 0, 0,\n",
       "       1, 1, 1, 0, 0, 1, 0, 1, 1, 0, 1, 0, 0, 1, 1, 0, 1, 0, 1, 1, 1, 0,\n",
       "       0, 0, 1, 1, 0, 0, 0, 1, 1, 0, 1, 1, 1, 1, 1, 1, 1, 1, 1, 1, 1, 1,\n",
       "       0, 1, 1, 0, 0, 1, 0, 0, 1, 0, 1, 0, 1, 0, 0, 1, 0, 1, 0, 1, 1, 1,\n",
       "       0, 0, 1, 1, 1, 0, 1, 1, 1, 1, 1, 0, 1, 0, 1, 1, 0, 0, 1, 0, 1, 1,\n",
       "       0, 1, 1, 0, 1, 0, 0, 1, 1, 0, 0, 1, 1, 0, 1, 0, 1, 1, 0, 0, 0, 0,\n",
       "       0, 0, 1, 1, 0, 1, 0, 0, 0, 0, 1, 1, 1, 0, 1])"
      ]
     },
     "execution_count": 23,
     "metadata": {},
     "output_type": "execute_result"
    }
   ],
   "source": [
    "y_pred = classifier.predict(X_test)\n",
    "y_pred"
   ]
  },
  {
   "cell_type": "code",
   "execution_count": 24,
   "id": "optional-joseph",
   "metadata": {
    "execution": {
     "iopub.execute_input": "2021-05-06T05:56:31.283943Z",
     "iopub.status.busy": "2021-05-06T05:56:31.283372Z",
     "iopub.status.idle": "2021-05-06T05:56:31.288373Z",
     "shell.execute_reply": "2021-05-06T05:56:31.288842Z"
    },
    "papermill": {
     "duration": 0.038075,
     "end_time": "2021-05-06T05:56:31.289021",
     "exception": false,
     "start_time": "2021-05-06T05:56:31.250946",
     "status": "completed"
    },
    "tags": []
   },
   "outputs": [
    {
     "data": {
      "text/plain": [
       "array([[116,   7],\n",
       "       [  2, 132]])"
      ]
     },
     "execution_count": 24,
     "metadata": {},
     "output_type": "execute_result"
    }
   ],
   "source": [
    "cm = confusion_matrix(y_test, y_pred)\n",
    "cm"
   ]
  },
  {
   "cell_type": "code",
   "execution_count": 25,
   "id": "grave-adolescent",
   "metadata": {
    "execution": {
     "iopub.execute_input": "2021-05-06T05:56:31.362096Z",
     "iopub.status.busy": "2021-05-06T05:56:31.361515Z",
     "iopub.status.idle": "2021-05-06T05:56:31.367203Z",
     "shell.execute_reply": "2021-05-06T05:56:31.366690Z"
    },
    "papermill": {
     "duration": 0.046014,
     "end_time": "2021-05-06T05:56:31.367334",
     "exception": false,
     "start_time": "2021-05-06T05:56:31.321320",
     "status": "completed"
    },
    "tags": []
   },
   "outputs": [
    {
     "data": {
      "text/plain": [
       "0.9649805447470817"
      ]
     },
     "execution_count": 25,
     "metadata": {},
     "output_type": "execute_result"
    }
   ],
   "source": [
    "accuracy = accuracy_score(y_test, y_pred)\n",
    "accuracy"
   ]
  },
  {
   "cell_type": "markdown",
   "id": "happy-eclipse",
   "metadata": {
    "papermill": {
     "duration": 0.036224,
     "end_time": "2021-05-06T05:56:31.444983",
     "exception": false,
     "start_time": "2021-05-06T05:56:31.408759",
     "status": "completed"
    },
    "tags": []
   },
   "source": [
    "# Naive Bayes"
   ]
  },
  {
   "cell_type": "code",
   "execution_count": 26,
   "id": "choice-omega",
   "metadata": {
    "execution": {
     "iopub.execute_input": "2021-05-06T05:56:31.513434Z",
     "iopub.status.busy": "2021-05-06T05:56:31.512554Z",
     "iopub.status.idle": "2021-05-06T05:56:31.518564Z",
     "shell.execute_reply": "2021-05-06T05:56:31.518074Z"
    },
    "papermill": {
     "duration": 0.041953,
     "end_time": "2021-05-06T05:56:31.518720",
     "exception": false,
     "start_time": "2021-05-06T05:56:31.476767",
     "status": "completed"
    },
    "tags": []
   },
   "outputs": [
    {
     "data": {
      "text/plain": [
       "GaussianNB()"
      ]
     },
     "execution_count": 26,
     "metadata": {},
     "output_type": "execute_result"
    }
   ],
   "source": [
    "classifier = GaussianNB()\n",
    "classifier.fit(X_train, y_train)"
   ]
  },
  {
   "cell_type": "code",
   "execution_count": 27,
   "id": "robust-coast",
   "metadata": {
    "execution": {
     "iopub.execute_input": "2021-05-06T05:56:31.590694Z",
     "iopub.status.busy": "2021-05-06T05:56:31.589036Z",
     "iopub.status.idle": "2021-05-06T05:56:31.593736Z",
     "shell.execute_reply": "2021-05-06T05:56:31.594265Z"
    },
    "papermill": {
     "duration": 0.041995,
     "end_time": "2021-05-06T05:56:31.594433",
     "exception": false,
     "start_time": "2021-05-06T05:56:31.552438",
     "status": "completed"
    },
    "tags": []
   },
   "outputs": [
    {
     "data": {
      "text/plain": [
       "array([1, 1, 0, 1, 0, 0, 0, 0, 0, 1, 1, 0, 0, 1, 1, 1, 1, 0, 1, 0, 1, 1,\n",
       "       1, 1, 1, 1, 1, 0, 1, 1, 1, 0, 0, 1, 0, 0, 0, 0, 1, 1, 1, 1, 1, 1,\n",
       "       1, 1, 1, 1, 0, 0, 1, 0, 1, 1, 0, 0, 0, 1, 0, 1, 1, 0, 1, 1, 0, 0,\n",
       "       0, 1, 1, 1, 1, 1, 1, 0, 0, 0, 1, 0, 0, 0, 0, 1, 0, 1, 1, 0, 1, 0,\n",
       "       1, 0, 0, 0, 1, 0, 1, 0, 1, 0, 1, 1, 1, 1, 1, 0, 0, 1, 0, 1, 0, 1,\n",
       "       1, 0, 0, 0, 1, 0, 1, 0, 0, 1, 1, 1, 1, 0, 1, 1, 1, 1, 1, 0, 0, 0,\n",
       "       1, 1, 1, 0, 0, 1, 0, 1, 0, 0, 0, 0, 0, 1, 1, 0, 1, 1, 1, 1, 1, 0,\n",
       "       0, 0, 1, 1, 0, 0, 0, 1, 1, 0, 1, 1, 1, 1, 1, 1, 1, 1, 1, 1, 1, 1,\n",
       "       1, 1, 1, 0, 0, 0, 0, 0, 1, 0, 1, 0, 1, 0, 0, 1, 0, 1, 0, 1, 1, 1,\n",
       "       1, 0, 1, 1, 1, 0, 1, 1, 1, 1, 1, 0, 1, 1, 1, 1, 0, 0, 0, 0, 1, 1,\n",
       "       0, 1, 1, 0, 1, 0, 0, 1, 1, 0, 0, 0, 1, 0, 1, 0, 1, 1, 1, 0, 1, 0,\n",
       "       0, 0, 1, 1, 0, 1, 0, 0, 1, 0, 1, 1, 1, 0, 0])"
      ]
     },
     "execution_count": 27,
     "metadata": {},
     "output_type": "execute_result"
    }
   ],
   "source": [
    "y_pred = classifier.predict(X_test)\n",
    "y_pred"
   ]
  },
  {
   "cell_type": "code",
   "execution_count": 28,
   "id": "vanilla-cologne",
   "metadata": {
    "execution": {
     "iopub.execute_input": "2021-05-06T05:56:31.664069Z",
     "iopub.status.busy": "2021-05-06T05:56:31.663429Z",
     "iopub.status.idle": "2021-05-06T05:56:31.667636Z",
     "shell.execute_reply": "2021-05-06T05:56:31.668125Z"
    },
    "papermill": {
     "duration": 0.041153,
     "end_time": "2021-05-06T05:56:31.668283",
     "exception": false,
     "start_time": "2021-05-06T05:56:31.627130",
     "status": "completed"
    },
    "tags": []
   },
   "outputs": [
    {
     "data": {
      "text/plain": [
       "array([[ 98,  25],\n",
       "       [ 13, 121]])"
      ]
     },
     "execution_count": 28,
     "metadata": {},
     "output_type": "execute_result"
    }
   ],
   "source": [
    "cm = confusion_matrix(y_test, y_pred)\n",
    "cm"
   ]
  },
  {
   "cell_type": "code",
   "execution_count": 29,
   "id": "figured-desert",
   "metadata": {
    "execution": {
     "iopub.execute_input": "2021-05-06T05:56:31.738129Z",
     "iopub.status.busy": "2021-05-06T05:56:31.737229Z",
     "iopub.status.idle": "2021-05-06T05:56:31.742532Z",
     "shell.execute_reply": "2021-05-06T05:56:31.743077Z"
    },
    "papermill": {
     "duration": 0.042006,
     "end_time": "2021-05-06T05:56:31.743231",
     "exception": false,
     "start_time": "2021-05-06T05:56:31.701225",
     "status": "completed"
    },
    "tags": []
   },
   "outputs": [
    {
     "data": {
      "text/plain": [
       "0.8521400778210116"
      ]
     },
     "execution_count": 29,
     "metadata": {},
     "output_type": "execute_result"
    }
   ],
   "source": [
    "accuracy = accuracy_score(y_test, y_pred)\n",
    "accuracy"
   ]
  },
  {
   "cell_type": "markdown",
   "id": "frequent-rugby",
   "metadata": {
    "papermill": {
     "duration": 0.032846,
     "end_time": "2021-05-06T05:56:31.809147",
     "exception": false,
     "start_time": "2021-05-06T05:56:31.776301",
     "status": "completed"
    },
    "tags": []
   },
   "source": [
    "# Decision Tree Classification"
   ]
  },
  {
   "cell_type": "code",
   "execution_count": 30,
   "id": "hourly-diagram",
   "metadata": {
    "execution": {
     "iopub.execute_input": "2021-05-06T05:56:31.879047Z",
     "iopub.status.busy": "2021-05-06T05:56:31.878090Z",
     "iopub.status.idle": "2021-05-06T05:56:31.886403Z",
     "shell.execute_reply": "2021-05-06T05:56:31.886789Z"
    },
    "papermill": {
     "duration": 0.044686,
     "end_time": "2021-05-06T05:56:31.886963",
     "exception": false,
     "start_time": "2021-05-06T05:56:31.842277",
     "status": "completed"
    },
    "tags": []
   },
   "outputs": [
    {
     "data": {
      "text/plain": [
       "DecisionTreeClassifier(criterion='entropy', max_depth=6, random_state=0)"
      ]
     },
     "execution_count": 30,
     "metadata": {},
     "output_type": "execute_result"
    }
   ],
   "source": [
    "classifier = DecisionTreeClassifier(criterion = 'entropy', random_state = 0, max_depth = 6)\n",
    "classifier.fit(X_train, y_train)"
   ]
  },
  {
   "cell_type": "code",
   "execution_count": 31,
   "id": "clinical-coaching",
   "metadata": {
    "execution": {
     "iopub.execute_input": "2021-05-06T05:56:31.957774Z",
     "iopub.status.busy": "2021-05-06T05:56:31.956880Z",
     "iopub.status.idle": "2021-05-06T05:56:31.962533Z",
     "shell.execute_reply": "2021-05-06T05:56:31.962996Z"
    },
    "papermill": {
     "duration": 0.042532,
     "end_time": "2021-05-06T05:56:31.963153",
     "exception": false,
     "start_time": "2021-05-06T05:56:31.920621",
     "status": "completed"
    },
    "tags": []
   },
   "outputs": [
    {
     "data": {
      "text/plain": [
       "array([1, 0, 0, 1, 0, 0, 0, 0, 0, 0, 0, 0, 0, 1, 1, 1, 1, 0, 1, 0, 1, 1,\n",
       "       1, 1, 1, 1, 1, 0, 1, 1, 1, 0, 0, 1, 0, 0, 0, 0, 1, 1, 1, 1, 1, 1,\n",
       "       1, 1, 1, 1, 0, 1, 0, 0, 1, 0, 0, 0, 0, 0, 0, 0, 0, 0, 1, 0, 0, 0,\n",
       "       0, 1, 1, 1, 0, 1, 1, 0, 0, 0, 0, 0, 0, 0, 0, 0, 1, 0, 1, 0, 1, 0,\n",
       "       1, 0, 0, 0, 1, 0, 1, 0, 0, 0, 1, 1, 1, 1, 1, 0, 0, 1, 0, 1, 0, 1,\n",
       "       1, 0, 0, 0, 1, 0, 1, 0, 0, 1, 0, 1, 1, 0, 0, 1, 1, 1, 1, 0, 0, 0,\n",
       "       1, 1, 1, 0, 0, 1, 0, 1, 1, 0, 1, 0, 0, 1, 1, 1, 1, 0, 1, 0, 1, 0,\n",
       "       0, 0, 1, 1, 0, 0, 0, 1, 1, 0, 1, 1, 1, 1, 1, 1, 1, 1, 1, 0, 1, 1,\n",
       "       0, 1, 1, 0, 0, 0, 0, 0, 1, 0, 0, 0, 1, 0, 0, 1, 1, 1, 0, 1, 0, 1,\n",
       "       1, 0, 1, 1, 1, 0, 1, 1, 1, 1, 1, 0, 1, 0, 1, 0, 0, 0, 1, 0, 1, 0,\n",
       "       0, 1, 1, 0, 1, 0, 0, 1, 1, 0, 0, 1, 1, 0, 1, 0, 1, 1, 0, 0, 0, 0,\n",
       "       0, 0, 1, 1, 0, 1, 0, 0, 0, 0, 1, 1, 1, 0, 0])"
      ]
     },
     "execution_count": 31,
     "metadata": {},
     "output_type": "execute_result"
    }
   ],
   "source": [
    "y_pred = classifier.predict(X_test)\n",
    "y_pred"
   ]
  },
  {
   "cell_type": "code",
   "execution_count": 32,
   "id": "ideal-denver",
   "metadata": {
    "execution": {
     "iopub.execute_input": "2021-05-06T05:56:32.033635Z",
     "iopub.status.busy": "2021-05-06T05:56:32.032763Z",
     "iopub.status.idle": "2021-05-06T05:56:32.038455Z",
     "shell.execute_reply": "2021-05-06T05:56:32.038828Z"
    },
    "papermill": {
     "duration": 0.041975,
     "end_time": "2021-05-06T05:56:32.038999",
     "exception": false,
     "start_time": "2021-05-06T05:56:31.997024",
     "status": "completed"
    },
    "tags": []
   },
   "outputs": [
    {
     "data": {
      "text/plain": [
       "array([[117,   6],\n",
       "       [ 14, 120]])"
      ]
     },
     "execution_count": 32,
     "metadata": {},
     "output_type": "execute_result"
    }
   ],
   "source": [
    "cm = confusion_matrix(y_test, y_pred)\n",
    "cm"
   ]
  },
  {
   "cell_type": "code",
   "execution_count": 33,
   "id": "alien-bobby",
   "metadata": {
    "execution": {
     "iopub.execute_input": "2021-05-06T05:56:32.109599Z",
     "iopub.status.busy": "2021-05-06T05:56:32.108744Z",
     "iopub.status.idle": "2021-05-06T05:56:32.113863Z",
     "shell.execute_reply": "2021-05-06T05:56:32.114264Z"
    },
    "papermill": {
     "duration": 0.041746,
     "end_time": "2021-05-06T05:56:32.114426",
     "exception": false,
     "start_time": "2021-05-06T05:56:32.072680",
     "status": "completed"
    },
    "tags": []
   },
   "outputs": [
    {
     "data": {
      "text/plain": [
       "0.9221789883268483"
      ]
     },
     "execution_count": 33,
     "metadata": {},
     "output_type": "execute_result"
    }
   ],
   "source": [
    "accuracy = accuracy_score(y_test, y_pred)\n",
    "accuracy"
   ]
  },
  {
   "cell_type": "markdown",
   "id": "moral-jerusalem",
   "metadata": {
    "papermill": {
     "duration": 0.033544,
     "end_time": "2021-05-06T05:56:32.182005",
     "exception": false,
     "start_time": "2021-05-06T05:56:32.148461",
     "status": "completed"
    },
    "tags": []
   },
   "source": [
    "# Random Forest Classification"
   ]
  },
  {
   "cell_type": "code",
   "execution_count": 34,
   "id": "racial-technical",
   "metadata": {
    "execution": {
     "iopub.execute_input": "2021-05-06T05:56:32.253351Z",
     "iopub.status.busy": "2021-05-06T05:56:32.252497Z",
     "iopub.status.idle": "2021-05-06T05:56:32.277109Z",
     "shell.execute_reply": "2021-05-06T05:56:32.277543Z"
    },
    "papermill": {
     "duration": 0.061637,
     "end_time": "2021-05-06T05:56:32.277697",
     "exception": false,
     "start_time": "2021-05-06T05:56:32.216060",
     "status": "completed"
    },
    "tags": []
   },
   "outputs": [
    {
     "data": {
      "text/plain": [
       "RandomForestClassifier(criterion='entropy', max_depth=6, n_estimators=10,\n",
       "                       random_state=0)"
      ]
     },
     "execution_count": 34,
     "metadata": {},
     "output_type": "execute_result"
    }
   ],
   "source": [
    "classifier = RandomForestClassifier(n_estimators = 10, criterion = 'entropy', random_state = 0, max_depth = 6)\n",
    "classifier.fit(X_train, y_train)"
   ]
  },
  {
   "cell_type": "code",
   "execution_count": 35,
   "id": "hourly-martin",
   "metadata": {
    "execution": {
     "iopub.execute_input": "2021-05-06T05:56:32.351732Z",
     "iopub.status.busy": "2021-05-06T05:56:32.351160Z",
     "iopub.status.idle": "2021-05-06T05:56:32.355755Z",
     "shell.execute_reply": "2021-05-06T05:56:32.356261Z"
    },
    "papermill": {
     "duration": 0.044196,
     "end_time": "2021-05-06T05:56:32.356445",
     "exception": false,
     "start_time": "2021-05-06T05:56:32.312249",
     "status": "completed"
    },
    "tags": []
   },
   "outputs": [
    {
     "data": {
      "text/plain": [
       "array([1, 0, 0, 1, 0, 0, 0, 0, 0, 0, 0, 0, 0, 0, 1, 1, 1, 0, 1, 0, 1, 1,\n",
       "       1, 1, 1, 1, 1, 0, 1, 1, 1, 0, 0, 1, 0, 0, 1, 0, 1, 1, 1, 1, 1, 1,\n",
       "       1, 1, 1, 0, 0, 0, 0, 0, 1, 0, 0, 0, 0, 1, 0, 0, 0, 0, 1, 1, 0, 0,\n",
       "       0, 1, 1, 1, 1, 1, 1, 0, 0, 0, 1, 1, 0, 0, 0, 0, 1, 0, 1, 0, 1, 0,\n",
       "       1, 0, 0, 0, 1, 1, 1, 0, 1, 0, 1, 1, 1, 1, 1, 0, 0, 1, 0, 1, 0, 1,\n",
       "       1, 0, 1, 0, 1, 0, 1, 0, 0, 1, 0, 1, 1, 0, 0, 1, 1, 1, 1, 0, 0, 0,\n",
       "       1, 1, 1, 0, 0, 1, 0, 1, 1, 0, 1, 0, 1, 1, 1, 1, 0, 0, 1, 1, 1, 0,\n",
       "       0, 0, 1, 1, 0, 0, 0, 1, 1, 0, 1, 1, 1, 1, 1, 1, 1, 1, 1, 1, 1, 1,\n",
       "       0, 1, 1, 0, 0, 1, 0, 0, 1, 0, 1, 0, 1, 0, 0, 1, 0, 1, 0, 1, 1, 1,\n",
       "       0, 0, 1, 1, 1, 0, 1, 1, 1, 1, 1, 0, 1, 1, 1, 1, 0, 0, 1, 0, 1, 1,\n",
       "       0, 1, 1, 0, 1, 0, 0, 1, 1, 0, 0, 1, 1, 0, 1, 0, 1, 1, 0, 0, 0, 0,\n",
       "       0, 0, 1, 1, 0, 1, 0, 0, 0, 0, 1, 1, 0, 0, 0])"
      ]
     },
     "execution_count": 35,
     "metadata": {},
     "output_type": "execute_result"
    }
   ],
   "source": [
    "y_pred = classifier.predict(X_test)\n",
    "y_pred"
   ]
  },
  {
   "cell_type": "code",
   "execution_count": 36,
   "id": "dedicated-chapter",
   "metadata": {
    "execution": {
     "iopub.execute_input": "2021-05-06T05:56:32.429016Z",
     "iopub.status.busy": "2021-05-06T05:56:32.428429Z",
     "iopub.status.idle": "2021-05-06T05:56:32.433445Z",
     "shell.execute_reply": "2021-05-06T05:56:32.433872Z"
    },
    "papermill": {
     "duration": 0.042808,
     "end_time": "2021-05-06T05:56:32.434055",
     "exception": false,
     "start_time": "2021-05-06T05:56:32.391247",
     "status": "completed"
    },
    "tags": []
   },
   "outputs": [
    {
     "data": {
      "text/plain": [
       "array([[115,   8],\n",
       "       [  5, 129]])"
      ]
     },
     "execution_count": 36,
     "metadata": {},
     "output_type": "execute_result"
    }
   ],
   "source": [
    "cm = confusion_matrix(y_test, y_pred)\n",
    "cm"
   ]
  },
  {
   "cell_type": "code",
   "execution_count": 37,
   "id": "controlled-trouble",
   "metadata": {
    "execution": {
     "iopub.execute_input": "2021-05-06T05:56:32.506832Z",
     "iopub.status.busy": "2021-05-06T05:56:32.506258Z",
     "iopub.status.idle": "2021-05-06T05:56:32.511058Z",
     "shell.execute_reply": "2021-05-06T05:56:32.511493Z"
    },
    "papermill": {
     "duration": 0.042675,
     "end_time": "2021-05-06T05:56:32.511641",
     "exception": false,
     "start_time": "2021-05-06T05:56:32.468966",
     "status": "completed"
    },
    "tags": []
   },
   "outputs": [
    {
     "data": {
      "text/plain": [
       "0.9494163424124513"
      ]
     },
     "execution_count": 37,
     "metadata": {},
     "output_type": "execute_result"
    }
   ],
   "source": [
    "accuracy = accuracy_score(y_test, y_pred)\n",
    "accuracy"
   ]
  },
  {
   "cell_type": "markdown",
   "id": "disciplinary-scroll",
   "metadata": {
    "papermill": {
     "duration": 0.035478,
     "end_time": "2021-05-06T05:56:32.582558",
     "exception": false,
     "start_time": "2021-05-06T05:56:32.547080",
     "status": "completed"
    },
    "tags": []
   },
   "source": [
    "**In the conclusion, I was attempting to generalize better accuracy and none of the regression was able to do better than 96% (Kernel-SVM). But all of the algorithms given super good predictions in this project. these are, logistic regression predicts 86%, K-NN 87%, SVM 85%, Naive Bayes 85%, Decision Tree Classifier 92%, and the last one, Random Forest Classifier 94%. \n",
    "According to the above predictions, the Kernel SVM algorithm is best for prediction amongst the other 6 Regression.**"
   ]
  }
 ],
 "metadata": {
  "kernelspec": {
   "display_name": "Python 3",
   "language": "python",
   "name": "python3"
  },
  "language_info": {
   "codemirror_mode": {
    "name": "ipython",
    "version": 3
   },
   "file_extension": ".py",
   "mimetype": "text/x-python",
   "name": "python",
   "nbconvert_exporter": "python",
   "pygments_lexer": "ipython3",
   "version": "3.7.10"
  },
  "papermill": {
   "default_parameters": {},
   "duration": 12.637549,
   "end_time": "2021-05-06T05:56:33.326680",
   "environment_variables": {},
   "exception": null,
   "input_path": "__notebook__.ipynb",
   "output_path": "__notebook__.ipynb",
   "parameters": {},
   "start_time": "2021-05-06T05:56:20.689131",
   "version": "2.3.3"
  }
 },
 "nbformat": 4,
 "nbformat_minor": 5
}
